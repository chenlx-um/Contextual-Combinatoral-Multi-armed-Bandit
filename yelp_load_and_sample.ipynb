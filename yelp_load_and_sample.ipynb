{
 "cells": [
  {
   "cell_type": "markdown",
   "metadata": {},
   "source": [
    "## Load Tensorflow and word2vec dictionary then sample"
   ]
  },
  {
   "cell_type": "code",
   "execution_count": null,
   "metadata": {
    "collapsed": true
   },
   "outputs": [],
   "source": [
    "import re\n",
    "import pandas as pd\n",
    "import numpy as np\n",
    "import tensorflow as tf\n",
    "from tensorflow.models.rnn import rnn_cell\n",
    "from tensorflow.models.rnn import seq2seq\n",
    "from nltk.tokenize import WhitespaceTokenizer\n",
    "import nltk.data\n",
    "from gensim.models import Word2Vec\n",
    "import time\n",
    "import yelp_util"
   ]
  },
  {
   "cell_type": "code",
   "execution_count": null,
   "metadata": {
    "collapsed": true
   },
   "outputs": [],
   "source": [
    "class Argument():\n",
    "    save_dir = 'model/'\n",
    "    rnn_size = 100\n",
    "    num_layers = 2\n",
    "    model = 'lstm'\n",
    "    batch_size = 10\n",
    "    seq_length = 25\n",
    "    num_epochs = 50\n",
    "    grad_clip = 5.\n",
    "    learning_rate = 0.002\n",
    "    decay_rate = 0.97\n",
    "    n = 40\n",
    "args = Argument()\n",
    "args.vocab_size = 5965"
   ]
  },
  {
   "cell_type": "code",
   "execution_count": null,
   "metadata": {
    "collapsed": true
   },
   "outputs": [],
   "source": [
    "model = yelp_util.ReviewModel(args, True)"
   ]
  },
  {
   "cell_type": "code",
   "execution_count": null,
   "metadata": {
    "collapsed": true
   },
   "outputs": [],
   "source": [
    "# boiler plate\n",
    "sess = tf.Session()\n",
    "init = tf.initialize_all_variables()\n",
    "sess.run(init)"
   ]
  },
  {
   "cell_type": "code",
   "execution_count": null,
   "metadata": {
    "collapsed": true
   },
   "outputs": [],
   "source": [
    "# restore session\n",
    "saver = tf.train.Saver(tf.all_variables())\n",
    "ckpt = tf.train.get_checkpoint_state(args.save_dir)\n",
    "saver.restore(sess, ckpt.model_checkpoint_path)"
   ]
  },
  {
   "cell_type": "code",
   "execution_count": null,
   "metadata": {
    "collapsed": true
   },
   "outputs": [],
   "source": [
    "word2vec_model = Word2Vec.load('model/word2vec/yelp100_gensim') # load trained gensim model or dictionary"
   ]
  },
  {
   "cell_type": "code",
   "execution_count": null,
   "metadata": {
    "collapsed": true
   },
   "outputs": [],
   "source": [
    "def weighted_pick(weights):\n",
    "    t = np.cumsum(weights)\n",
    "    s = np.sum(weights)\n",
    "    return(int(np.searchsorted(t, np.random.rand(1)*s)))"
   ]
  },
  {
   "cell_type": "code",
   "execution_count": null,
   "metadata": {
    "collapsed": true
   },
   "outputs": [],
   "source": [
    "prime=\"this restaurant is\".split()\n",
    "prime_ls = map(lambda x: word2vec_model.vocab[x].index, prime)\n",
    "state_p = model.cell.zero_state(1, tf.float32).eval(session=sess)\n",
    "\n",
    "word_id = prime_ls[-1]\n",
    "num = 10\n",
    "\n",
    "for word_id in prime_ls:\n",
    "    x_p = np.zeros((1,1))\n",
    "    x_p[0, 0] = word_id\n",
    "    feed = {model.input_data : x_p, model.initial_state: state_p}\n",
    "    [state_p] = sess.run([model.final_state], feed)\n",
    "\n",
    "for n in xrange(num):\n",
    "    x_p = np.zeros((1, 1))\n",
    "    x_p[0, 0] = word_id\n",
    "    feed = {model.input_data: x_p, model.initial_state:state_p}\n",
    "    [probs, state] = sess.run([model.probs, model.final_state], feed)\n",
    "    p = probs[0]\n",
    "    # sample = int(np.random.choice(len(p), p=p))\n",
    "    sample = weighted_pick(p)\n",
    "    prime += [word2vec_model.index2word[sample]]\n",
    "    word_id = sample"
   ]
  }
 ],
 "metadata": {
  "kernelspec": {
   "display_name": "Python 2",
   "language": "python",
   "name": "python2"
  },
  "language_info": {
   "codemirror_mode": {
    "name": "ipython",
    "version": 2
   },
   "file_extension": ".py",
   "mimetype": "text/x-python",
   "name": "python",
   "nbconvert_exporter": "python",
   "pygments_lexer": "ipython2",
   "version": "2.7.10"
  }
 },
 "nbformat": 4,
 "nbformat_minor": 0
}
