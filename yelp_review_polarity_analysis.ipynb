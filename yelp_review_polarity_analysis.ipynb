{
 "cells": [
  {
   "cell_type": "code",
   "execution_count": null,
   "metadata": {
    "collapsed": false
   },
   "outputs": [],
   "source": [
    "from __future__ import print_function\n",
    "import numpy as np\n",
    "import pandas as pd\n",
    "import time\n",
    "import yelp_util\n",
    "np.random.seed(1337)\n",
    "from keras.preprocessing import sequence\n",
    "from keras.utils.np_utils import accuracy\n",
    "from keras.models import Graph\n",
    "from keras.layers.core import Dense, Dropout\n",
    "from keras.layers.embeddings import Embedding\n",
    "from keras.layers.recurrent import SimpleRNN\n",
    "from keras.initializations import normal, identity\n",
    "import cPickle as pkl"
   ]
  },
  {
   "cell_type": "code",
   "execution_count": null,
   "metadata": {
    "collapsed": true
   },
   "outputs": [],
   "source": [
    "yelp_review = pd.read_pickle('data/yelp_academic_dataset_review.pickle') # read yelp review pickle"
   ]
  },
  {
   "cell_type": "code",
   "execution_count": null,
   "metadata": {
    "collapsed": true
   },
   "outputs": [],
   "source": [
    "neg_reviews = yelp_review[yelp_review['stars'] < 3]  # 5 stars vs 1-2 stars\n",
    "pos_reviews = yelp_review[yelp_review['stars'] == 5]\n",
    "print(len(neg_reviews), len(pos_reviews))\n",
    "\n",
    "neg_sents = [sent for sent in neg_reviews['text']]\n",
    "pos_sents = [sent for sent in pos_reviews['text']]\n",
    "sents = neg_sents + pos_sents\n",
    "print(len(sents))"
   ]
  },
  {
   "cell_type": "code",
   "execution_count": null,
   "metadata": {
    "collapsed": true
   },
   "outputs": [],
   "source": [
    "wdict, toksents = yelp_util.preprocessing.create_vocab(sents)"
   ]
  },
  {
   "cell_type": "code",
   "execution_count": null,
   "metadata": {
    "collapsed": true
   },
   "outputs": [],
   "source": [
    "f = open('yelp_posneg_review.dict.pkl', 'wb')\n",
    "pkl.dump(wdict, f, -1)\n",
    "f.close()"
   ]
  },
  {
   "cell_type": "code",
   "execution_count": null,
   "metadata": {
    "collapsed": true
   },
   "outputs": [],
   "source": [
    "wdseqs = yelp_util.preprocessing.word2id(toksents, wdict)   # word id sequences"
   ]
  },
  {
   "cell_type": "code",
   "execution_count": null,
   "metadata": {
    "collapsed": true
   },
   "outputs": [],
   "source": [
    "f = open('yelp_posneg_review.whole_dataset.pkl', 'wb')\n",
    "pkl.dump(wdseqs, f, -1)\n",
    "f.close()"
   ]
  },
  {
   "cell_type": "code",
   "execution_count": null,
   "metadata": {
    "collapsed": true
   },
   "outputs": [],
   "source": [
    "labels = np.ones(len(wdseqs), dtype=np.int32) # Labels for neg and pos reviews\n",
    "labels[:300419] = 0"
   ]
  },
  {
   "cell_type": "code",
   "execution_count": null,
   "metadata": {
    "collapsed": true
   },
   "outputs": [],
   "source": [
    "(X_train, y_train), (X_test, y_test) = yelp_util.preprocessing.load_yelp_review(wdseqs, labels, nb_words=300000)"
   ]
  },
  {
   "cell_type": "code",
   "execution_count": null,
   "metadata": {
    "collapsed": true
   },
   "outputs": [],
   "source": [
    "max_features = 300000 # Max Vocab\n",
    "maxlen = 100\n",
    "batch_size = 128\n",
    "\n",
    "print(len(X_train), 'train sequences')\n",
    "print(len(X_test), 'test sequences')\n",
    "\n",
    "print(\"Pad sequences (samples x time)\")\n",
    "X_train = sequence.pad_sequences(X_train, maxlen=maxlen)\n",
    "X_test = sequence.pad_sequences(X_test, maxlen=maxlen)\n",
    "print('X_train shape:', X_train.shape)\n",
    "print('X_test shape:', X_test.shape)\n",
    "y_train = np.array(y_train)\n",
    "y_test = np.array(y_test)\n",
    "\n",
    "print('Building Bidirectional IRNN')\n",
    "model = Graph()\n",
    "model.add_input(name='input', input_shape=(maxlen,), dtype=int)\n",
    "model.add_node(Embedding(max_features, 128, input_length=maxlen),\n",
    "               name='embedding', input='input')\n",
    "model.add_node(SimpleRNN(output_dim=64,\n",
    "                    init=lambda shape: normal(shape, scale=0.001),\n",
    "                    inner_init=lambda shape: identity(shape, scale=1.0),\n",
    "                    activation='relu'), name='forward', input='embedding')\n",
    "model.add_node(SimpleRNN(output_dim=64,\n",
    "                    init=lambda shape: normal(shape, scale=0.001),\n",
    "                    inner_init=lambda shape: identity(shape, scale=1.0),\n",
    "                    activation='relu', go_backwards=True), name='backward', input='embedding')\n",
    "\n",
    "model.add_node(Dropout(0.5), name='dropout', inputs=['forward', 'backward'])\n",
    "model.add_node(Dense(1, activation='sigmoid'), name='sigmoid', input='dropout')\n",
    "model.add_output(name='output', input='sigmoid')\n",
    "\n",
    "model.compile('rmsprop', {'output': 'binary_crossentropy'})\n",
    "\n",
    "print('Train...')\n",
    "model.fit({'input': X_train, 'output': y_train},\n",
    "          batch_size=batch_size,\n",
    "          nb_epoch=3)\n",
    "acc = accuracy(y_test,\n",
    "               np.round(np.array(model.predict({'input': X_test},\n",
    "                                               batch_size=batch_size)['output'])))\n",
    "print('Test accuracy:', acc)\n",
    "# ~96% accuracy after 3 epochs"
   ]
  },
  {
   "cell_type": "code",
   "execution_count": null,
   "metadata": {
    "collapsed": true
   },
   "outputs": [],
   "source": [
    "model.save_weights('bdirnn_model_weights.h5')"
   ]
  }
 ],
 "metadata": {
  "kernelspec": {
   "display_name": "Python 2",
   "language": "python",
   "name": "python2"
  },
  "language_info": {
   "codemirror_mode": {
    "name": "ipython",
    "version": 2
   },
   "file_extension": ".py",
   "mimetype": "text/x-python",
   "name": "python",
   "nbconvert_exporter": "python",
   "pygments_lexer": "ipython2",
   "version": "2.7.11"
  }
 },
 "nbformat": 4,
 "nbformat_minor": 0
}
